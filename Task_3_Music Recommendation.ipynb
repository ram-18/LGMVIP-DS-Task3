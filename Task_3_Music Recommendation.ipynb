{
  "nbformat": 4,
  "nbformat_minor": 0,
  "metadata": {
    "colab": {
      "name": "Copy of Beginner Level _Task 3 _Music Recommendation.ipynb",
      "provenance": [],
      "collapsed_sections": []
    },
    "kernelspec": {
      "name": "python3",
      "display_name": "Python 3"
    },
    "language_info": {
      "name": "python"
    }
  },
  "cells": [
    {
      "cell_type": "markdown",
      "metadata": {
        "id": "-1hNtzJDQD-S"
      },
      "source": [
        "\n",
        "# **LetsGrowMore- Virtual Internship Program (VIP)- Data Science**\n",
        "\n",
        "**Beginner Level Task**\n",
        "\n",
        "Name:- **Ramkrishna Allampallewar**\n",
        "\n",
        "Task 3 :- Music Recommendation"
      ]
    },
    {
      "cell_type": "markdown",
      "metadata": {
        "id": "VE18Dr6wgguL"
      },
      "source": [
        "**Import the required libraries**"
      ]
    },
    {
      "cell_type": "code",
      "metadata": {
        "id": "4sqo-tE6R7RR"
      },
      "source": [
        "import pandas as pd\n",
        "import numpy as np\n",
        "import matplotlib.pyplot as plt\n",
        "import seaborn as sns"
      ],
      "execution_count": null,
      "outputs": []
    },
    {
      "cell_type": "code",
      "metadata": {
        "id": "yxqY6xRag43S"
      },
      "source": [
        "import warnings\n",
        "warnings.filterwarnings('ignore')"
      ],
      "execution_count": null,
      "outputs": []
    },
    {
      "cell_type": "markdown",
      "metadata": {
        "id": "cy4vC-SvhGAw"
      },
      "source": [
        "**Load the data**"
      ]
    },
    {
      "cell_type": "code",
      "metadata": {
        "id": "w3qbJ7RFhNbw"
      },
      "source": [
        "song_data = pd.read_csv('/content/songs.csv')"
      ],
      "execution_count": null,
      "outputs": []
    },
    {
      "cell_type": "code",
      "metadata": {
        "colab": {
          "base_uri": "https://localhost:8080/",
          "height": 204
        },
        "id": "REnxm1hLhtpq",
        "outputId": "a481bdc6-0f5d-4301-fdad-6c8cc5e3071f"
      },
      "source": [
        "song_data.head()"
      ],
      "execution_count": null,
      "outputs": [
        {
          "output_type": "execute_result",
          "data": {
            "text/html": [
              "<div>\n",
              "<style scoped>\n",
              "    .dataframe tbody tr th:only-of-type {\n",
              "        vertical-align: middle;\n",
              "    }\n",
              "\n",
              "    .dataframe tbody tr th {\n",
              "        vertical-align: top;\n",
              "    }\n",
              "\n",
              "    .dataframe thead th {\n",
              "        text-align: right;\n",
              "    }\n",
              "</style>\n",
              "<table border=\"1\" class=\"dataframe\">\n",
              "  <thead>\n",
              "    <tr style=\"text-align: right;\">\n",
              "      <th></th>\n",
              "      <th>song_id</th>\n",
              "      <th>title</th>\n",
              "      <th>release</th>\n",
              "      <th>artist_name</th>\n",
              "      <th>year</th>\n",
              "    </tr>\n",
              "  </thead>\n",
              "  <tbody>\n",
              "    <tr>\n",
              "      <th>0</th>\n",
              "      <td>SOQMMHC12AB0180CB8</td>\n",
              "      <td>Silent Night</td>\n",
              "      <td>Monster Ballads X-Mas</td>\n",
              "      <td>Faster Pussy cat</td>\n",
              "      <td>2003</td>\n",
              "    </tr>\n",
              "    <tr>\n",
              "      <th>1</th>\n",
              "      <td>SOVFVAK12A8C1350D9</td>\n",
              "      <td>Tanssi vaan</td>\n",
              "      <td>Karkuteillä</td>\n",
              "      <td>Karkkiautomaatti</td>\n",
              "      <td>1995</td>\n",
              "    </tr>\n",
              "    <tr>\n",
              "      <th>2</th>\n",
              "      <td>SOGTUKN12AB017F4F1</td>\n",
              "      <td>No One Could Ever</td>\n",
              "      <td>Butter</td>\n",
              "      <td>Hudson Mohawke</td>\n",
              "      <td>2006</td>\n",
              "    </tr>\n",
              "    <tr>\n",
              "      <th>3</th>\n",
              "      <td>SOBNYVR12A8C13558C</td>\n",
              "      <td>Si Vos Querés</td>\n",
              "      <td>De Culo</td>\n",
              "      <td>Yerba Brava</td>\n",
              "      <td>2003</td>\n",
              "    </tr>\n",
              "    <tr>\n",
              "      <th>4</th>\n",
              "      <td>SOHSBXH12A8C13B0DF</td>\n",
              "      <td>Tangle Of Aspens</td>\n",
              "      <td>Rene Ablaze Presents Winter Sessions</td>\n",
              "      <td>Der Mystic</td>\n",
              "      <td>0</td>\n",
              "    </tr>\n",
              "  </tbody>\n",
              "</table>\n",
              "</div>"
            ],
            "text/plain": [
              "              song_id              title  ...       artist_name  year\n",
              "0  SOQMMHC12AB0180CB8       Silent Night  ...  Faster Pussy cat  2003\n",
              "1  SOVFVAK12A8C1350D9        Tanssi vaan  ...  Karkkiautomaatti  1995\n",
              "2  SOGTUKN12AB017F4F1  No One Could Ever  ...    Hudson Mohawke  2006\n",
              "3  SOBNYVR12A8C13558C      Si Vos Querés  ...       Yerba Brava  2003\n",
              "4  SOHSBXH12A8C13B0DF   Tangle Of Aspens  ...        Der Mystic     0\n",
              "\n",
              "[5 rows x 5 columns]"
            ]
          },
          "metadata": {},
          "execution_count": 111
        }
      ]
    },
    {
      "cell_type": "code",
      "metadata": {
        "id": "HRZwPHwqhzsq"
      },
      "source": [
        "user_data = pd.read_csv('/content/users.csv')"
      ],
      "execution_count": null,
      "outputs": []
    },
    {
      "cell_type": "code",
      "metadata": {
        "colab": {
          "base_uri": "https://localhost:8080/",
          "height": 204
        },
        "id": "UMvJBRz1h7Tw",
        "outputId": "cc8d8247-9c5a-44be-86c8-819569b9c6dd"
      },
      "source": [
        "user_data.head()"
      ],
      "execution_count": null,
      "outputs": [
        {
          "output_type": "execute_result",
          "data": {
            "text/html": [
              "<div>\n",
              "<style scoped>\n",
              "    .dataframe tbody tr th:only-of-type {\n",
              "        vertical-align: middle;\n",
              "    }\n",
              "\n",
              "    .dataframe tbody tr th {\n",
              "        vertical-align: top;\n",
              "    }\n",
              "\n",
              "    .dataframe thead th {\n",
              "        text-align: right;\n",
              "    }\n",
              "</style>\n",
              "<table border=\"1\" class=\"dataframe\">\n",
              "  <thead>\n",
              "    <tr style=\"text-align: right;\">\n",
              "      <th></th>\n",
              "      <th>user_id</th>\n",
              "      <th>song_id</th>\n",
              "      <th>listen_count</th>\n",
              "    </tr>\n",
              "  </thead>\n",
              "  <tbody>\n",
              "    <tr>\n",
              "      <th>0</th>\n",
              "      <td>b80344d063b5ccb3212f76538f3d9e43d87dca9e</td>\n",
              "      <td>SOAKIMP12A8C130995</td>\n",
              "      <td>1</td>\n",
              "    </tr>\n",
              "    <tr>\n",
              "      <th>1</th>\n",
              "      <td>b80344d063b5ccb3212f76538f3d9e43d87dca9e</td>\n",
              "      <td>SOBBMDR12A8C13253B</td>\n",
              "      <td>2</td>\n",
              "    </tr>\n",
              "    <tr>\n",
              "      <th>2</th>\n",
              "      <td>b80344d063b5ccb3212f76538f3d9e43d87dca9e</td>\n",
              "      <td>SOBXHDL12A81C204C0</td>\n",
              "      <td>1</td>\n",
              "    </tr>\n",
              "    <tr>\n",
              "      <th>3</th>\n",
              "      <td>b80344d063b5ccb3212f76538f3d9e43d87dca9e</td>\n",
              "      <td>SOBYHAJ12A6701BF1D</td>\n",
              "      <td>1</td>\n",
              "    </tr>\n",
              "    <tr>\n",
              "      <th>4</th>\n",
              "      <td>b80344d063b5ccb3212f76538f3d9e43d87dca9e</td>\n",
              "      <td>SODACBL12A8C13C273</td>\n",
              "      <td>1</td>\n",
              "    </tr>\n",
              "  </tbody>\n",
              "</table>\n",
              "</div>"
            ],
            "text/plain": [
              "                                    user_id             song_id  listen_count\n",
              "0  b80344d063b5ccb3212f76538f3d9e43d87dca9e  SOAKIMP12A8C130995             1\n",
              "1  b80344d063b5ccb3212f76538f3d9e43d87dca9e  SOBBMDR12A8C13253B             2\n",
              "2  b80344d063b5ccb3212f76538f3d9e43d87dca9e  SOBXHDL12A81C204C0             1\n",
              "3  b80344d063b5ccb3212f76538f3d9e43d87dca9e  SOBYHAJ12A6701BF1D             1\n",
              "4  b80344d063b5ccb3212f76538f3d9e43d87dca9e  SODACBL12A8C13C273             1"
            ]
          },
          "metadata": {},
          "execution_count": 113
        }
      ]
    },
    {
      "cell_type": "markdown",
      "metadata": {
        "id": "u4_H1r2ZiRMl"
      },
      "source": [
        "**Pre-process the data**"
      ]
    },
    {
      "cell_type": "code",
      "metadata": {
        "id": "-cuzVwivRNUY"
      },
      "source": [
        "song_data[\"year\"] = song_data[\"year\"].astype('Int64')"
      ],
      "execution_count": null,
      "outputs": []
    },
    {
      "cell_type": "code",
      "metadata": {
        "id": "c3iRW843mNcX"
      },
      "source": [
        "song_data.rename(columns={\"song_id\":\"SongId\",\"title\":\"Title\",\"release\":\"Album\",\"artist_name\":\"Artist\",\"year\":\"Year\"},inplace=True)"
      ],
      "execution_count": null,
      "outputs": []
    },
    {
      "cell_type": "code",
      "metadata": {
        "id": "FLhAnlKfjxO2"
      },
      "source": [
        "user_data[\"listen_count\"] = user_data[\"listen_count\"].astype('Int64')"
      ],
      "execution_count": null,
      "outputs": []
    },
    {
      "cell_type": "code",
      "metadata": {
        "id": "-k4RLH0Im0gU"
      },
      "source": [
        "user_data.rename(columns={\"user_id\":\"UserId\",\"song_id\":\"SongId\",\"listen_count\":\"ListenCount\"},inplace=True)"
      ],
      "execution_count": null,
      "outputs": []
    },
    {
      "cell_type": "markdown",
      "metadata": {
        "id": "SbtTW6OtoS7H"
      },
      "source": [
        "**Merge the datasets**"
      ]
    },
    {
      "cell_type": "code",
      "metadata": {
        "colab": {
          "base_uri": "https://localhost:8080/",
          "height": 204
        },
        "id": "wT1CqFD5oWsv",
        "outputId": "39f7bfd2-6efe-432b-d306-adde1d2c4b0f"
      },
      "source": [
        "final_data = pd.merge(user_data, song_data.drop_duplicates([\"SongId\"]), on='SongId', how='left')\n",
        "final_data['Song'] = final_data['Title'] + ' by ' + final_data['Artist']\n",
        "final_data = final_data.drop(['Title'],axis=1)\n",
        "final_data = final_data.head(50000)\n",
        "final_data.head()"
      ],
      "execution_count": null,
      "outputs": [
        {
          "output_type": "execute_result",
          "data": {
            "text/html": [
              "<div>\n",
              "<style scoped>\n",
              "    .dataframe tbody tr th:only-of-type {\n",
              "        vertical-align: middle;\n",
              "    }\n",
              "\n",
              "    .dataframe tbody tr th {\n",
              "        vertical-align: top;\n",
              "    }\n",
              "\n",
              "    .dataframe thead th {\n",
              "        text-align: right;\n",
              "    }\n",
              "</style>\n",
              "<table border=\"1\" class=\"dataframe\">\n",
              "  <thead>\n",
              "    <tr style=\"text-align: right;\">\n",
              "      <th></th>\n",
              "      <th>UserId</th>\n",
              "      <th>SongId</th>\n",
              "      <th>ListenCount</th>\n",
              "      <th>Album</th>\n",
              "      <th>Artist</th>\n",
              "      <th>Year</th>\n",
              "      <th>Song</th>\n",
              "    </tr>\n",
              "  </thead>\n",
              "  <tbody>\n",
              "    <tr>\n",
              "      <th>0</th>\n",
              "      <td>b80344d063b5ccb3212f76538f3d9e43d87dca9e</td>\n",
              "      <td>SOAKIMP12A8C130995</td>\n",
              "      <td>1</td>\n",
              "      <td>Thicker Than Water</td>\n",
              "      <td>Jack Johnson</td>\n",
              "      <td>0</td>\n",
              "      <td>The Cove by Jack Johnson</td>\n",
              "    </tr>\n",
              "    <tr>\n",
              "      <th>1</th>\n",
              "      <td>b80344d063b5ccb3212f76538f3d9e43d87dca9e</td>\n",
              "      <td>SOBBMDR12A8C13253B</td>\n",
              "      <td>2</td>\n",
              "      <td>Flamenco Para Niños</td>\n",
              "      <td>Paco De Lucia</td>\n",
              "      <td>1976</td>\n",
              "      <td>Entre Dos Aguas by Paco De Lucia</td>\n",
              "    </tr>\n",
              "    <tr>\n",
              "      <th>2</th>\n",
              "      <td>b80344d063b5ccb3212f76538f3d9e43d87dca9e</td>\n",
              "      <td>SOBXHDL12A81C204C0</td>\n",
              "      <td>1</td>\n",
              "      <td>Graduation</td>\n",
              "      <td>Kanye West</td>\n",
              "      <td>2007</td>\n",
              "      <td>Stronger by Kanye West</td>\n",
              "    </tr>\n",
              "    <tr>\n",
              "      <th>3</th>\n",
              "      <td>b80344d063b5ccb3212f76538f3d9e43d87dca9e</td>\n",
              "      <td>SOBYHAJ12A6701BF1D</td>\n",
              "      <td>1</td>\n",
              "      <td>In Between Dreams</td>\n",
              "      <td>Jack Johnson</td>\n",
              "      <td>2005</td>\n",
              "      <td>Constellations by Jack Johnson</td>\n",
              "    </tr>\n",
              "    <tr>\n",
              "      <th>4</th>\n",
              "      <td>b80344d063b5ccb3212f76538f3d9e43d87dca9e</td>\n",
              "      <td>SODACBL12A8C13C273</td>\n",
              "      <td>1</td>\n",
              "      <td>There Is Nothing Left To Lose</td>\n",
              "      <td>Foo Fighters</td>\n",
              "      <td>1999</td>\n",
              "      <td>Learn To Fly by Foo Fighters</td>\n",
              "    </tr>\n",
              "  </tbody>\n",
              "</table>\n",
              "</div>"
            ],
            "text/plain": [
              "                                     UserId  ...                              Song\n",
              "0  b80344d063b5ccb3212f76538f3d9e43d87dca9e  ...          The Cove by Jack Johnson\n",
              "1  b80344d063b5ccb3212f76538f3d9e43d87dca9e  ...  Entre Dos Aguas by Paco De Lucia\n",
              "2  b80344d063b5ccb3212f76538f3d9e43d87dca9e  ...            Stronger by Kanye West\n",
              "3  b80344d063b5ccb3212f76538f3d9e43d87dca9e  ...    Constellations by Jack Johnson\n",
              "4  b80344d063b5ccb3212f76538f3d9e43d87dca9e  ...      Learn To Fly by Foo Fighters\n",
              "\n",
              "[5 rows x 7 columns]"
            ]
          },
          "metadata": {},
          "execution_count": 120
        }
      ]
    },
    {
      "cell_type": "markdown",
      "metadata": {
        "id": "Zqq4pJidrAe-"
      },
      "source": [
        "**Visualize the data**"
      ]
    },
    {
      "cell_type": "code",
      "metadata": {
        "colab": {
          "base_uri": "https://localhost:8080/",
          "height": 637
        },
        "id": "wmL8UMA2rEVL",
        "outputId": "bd17da11-49b4-498c-cf3a-141368c06045"
      },
      "source": [
        "#Using countplot to see the number of songs per year\n",
        "plt.figure(figsize=(20,10))\n",
        "sns.countplot(x='Year', data=final_data[-(final_data['Year']==0)])\n",
        "plt.xticks(rotation=90)\n",
        "plt.title(\"No. of songs per year\")\n",
        "plt.show()"
      ],
      "execution_count": null,
      "outputs": [
        {
          "output_type": "display_data",
          "data": {
            "image/png": "[encoded data removed]",
            "text/plain": [
              "<Figure size 1440x720 with 1 Axes>"
            ]
          },
          "metadata": {
            "needs_background": "light"
          }
        }
      ]
    },
    {
      "cell_type": "code",
      "metadata": {
        "colab": {
          "base_uri": "https://localhost:8080/",
          "height": 607
        },
        "id": "Iiy_VUs9tOJX",
        "outputId": "a6daaaa7-5ea7-4fd0-ec1b-8290354d548f"
      },
      "source": [
        "#Using barplot to see the number of songs per artist\n",
        "plt.figure(figsize=(20,10))\n",
        "sns.barplot(final_data['Artist'].value_counts()[:10].index,final_data['Artist'].value_counts()[:10].values)\n",
        "plt.title(\"No. of songs per artist\")\n",
        "plt.show()"
      ],
      "execution_count": null,
      "outputs": [
        {
          "output_type": "display_data",
          "data": {
            "image/png": "[encoded data removed]",
            "text/plain": [
              "<Figure size 1440x720 with 1 Axes>"
            ]
          },
          "metadata": {
            "needs_background": "light"
          }
        }
      ]
    },
    {
      "cell_type": "code",
      "metadata": {
        "colab": {
          "base_uri": "https://localhost:8080/",
          "height": 416
        },
        "id": "IAHdNrHluJI8",
        "outputId": "c893a627-a9c3-4597-acc5-5403489609c4"
      },
      "source": [
        "#Using barplot to see the most popular songs\n",
        "plt.figure(figsize=(20,10))\n",
        "sns.barplot(final_data['Song'].value_counts()[:10].values,final_data['Song'].value_counts()[:10].index)\n",
        "plt.title(\"Most popular songs\")\n",
        "plt.show()"
      ],
      "execution_count": null,
      "outputs": [
        {
          "output_type": "display_data",
          "data": {
            "image/png": "[encoded data removed]",
            "text/plain": [
              "<Figure size 1440x720 with 1 Axes>"
            ]
          },
          "metadata": {
            "needs_background": "light"
          }
        }
      ]
    },
    {
      "cell_type": "markdown",
      "metadata": {
        "id": "PlViwAW4vAri"
      },
      "source": [
        "**Build the recommendation system**"
      ]
    },
    {
      "cell_type": "code",
      "metadata": {
        "id": "UusMS2kFvFOT"
      },
      "source": [
        "class Recommendation():\n",
        "    def __init__(self, data, user_id, song):\n",
        "        self.data = data\n",
        "        self.user_id = user_id\n",
        "        self.song = song\n",
        "        self.glcm = None\n",
        "        \n",
        "    def song_history(self, user):\n",
        "        user_data = self.data[self.data[self.user_id] == user]\n",
        "        return list(user_data[self.song].unique())\n",
        "        \n",
        "    def users(self, item):\n",
        "        item_data = self.data[self.data[self.song] == item]\n",
        "        return set(item_data[self.user_id].unique())\n",
        "        \n",
        "    def all_songs(self):\n",
        "        return list(self.data[self.song].unique())\n",
        "        \n",
        "    def get_glcm(self, user_songs, all_songs):\n",
        "        users = []        \n",
        "        for p in range(0, len(user_songs)):\n",
        "            users.append(self.users(user_songs[p]))   \n",
        "        glcm = np.matrix(np.zeros(shape=(len(user_songs), len(all_songs))), float)\n",
        "\n",
        "        for p in range(0,len(all_songs)):\n",
        "            songs_p_data = self.data[self.data[self.song] == all_songs[p]]\n",
        "            users_p = set(songs_p_data[self.user_id].unique())\n",
        "            \n",
        "            for q in range(0,len(user_songs)):           \n",
        "                users_q = users[q]\n",
        "                users_intersection = users_p.intersection(users_q)\n",
        "               \n",
        "                users_union = users_p.union(users_q)\n",
        "                glcm[q,p] = float(len(users_intersection))/float(len(users_union))\n",
        "\n",
        "        return glcm\n",
        "\n",
        "    def generate(self, user, glcm, all_songs, user_songs):\n",
        "        scores = glcm.sum(axis=0)/float(glcm.shape[0])\n",
        "        scores = np.array(scores)[0].tolist()\n",
        "        sort_index = sorted(((e,p) for p,e in enumerate(list(scores))), reverse=True)\n",
        "        columns = ['UserID', 'Song', 'Score', 'Rank']\n",
        "        final_data = pd.DataFrame(columns=columns)\n",
        "         \n",
        "        rank = 1 \n",
        "        for i in range(0,len(sort_index)):\n",
        "            if ~np.isnan(sort_index[i][0]) and all_songs[sort_index[i][1]] not in user_songs and rank <= 10:\n",
        "                final_data.loc[len(final_data)]=[user,all_songs[sort_index[i][1]],sort_index[i][0],rank]\n",
        "                rank = rank+1\n",
        "        \n",
        "        print(\"Music Recommendations: \\n\")\n",
        "        return final_data.drop(['UserID'], axis=1)\n",
        "\n",
        "    def get_recommendations(self, user):\n",
        "        user_songs = self.song_history(user)    \n",
        "        all_songs = self.all_songs()\n",
        "        glcm = self.get_glcm(user_songs, all_songs)\n",
        "        return self.generate(user, glcm, all_songs, user_songs)\n",
        "\n",
        "    def get_similar_songs(self, item_list):\n",
        "        user_songs = item_list\n",
        "        all_songs = self.all_songs()\n",
        "        glcm = self.get_glcm(user_songs, all_songs)\n",
        "        return self.generate(\"\", glcm, all_songs, user_songs)"
      ],
      "execution_count": null,
      "outputs": []
    },
    {
      "cell_type": "markdown",
      "metadata": {
        "id": "KLz_muyAxQ8L"
      },
      "source": [
        "**Get song history for a user**"
      ]
    },
    {
      "cell_type": "code",
      "metadata": {
        "id": "RTGmZnUmxWbi"
      },
      "source": [
        "r = Recommendation(final_data,'UserId','Song')\n",
        "history=r.song_history(final_data['UserId'][6])"
      ],
      "execution_count": null,
      "outputs": []
    },
    {
      "cell_type": "code",
      "metadata": {
        "colab": {
          "base_uri": "https://localhost:8080/"
        },
        "id": "2LDQQxuVx4yY",
        "outputId": "f3898b0e-9327-4bd1-ea9c-9359d369d88b"
      },
      "source": [
        "print(\"Song history of the user:\\n\")\n",
        "for song in history:\n",
        "  print(song)"
      ],
      "execution_count": null,
      "outputs": [
        {
          "output_type": "stream",
          "name": "stdout",
          "text": [
            "Song history of the user:\n",
            "\n",
            "The Cove by Jack Johnson\n",
            "Entre Dos Aguas by Paco De Lucia\n",
            "Stronger by Kanye West\n",
            "Constellations by Jack Johnson\n",
            "Learn To Fly by Foo Fighters\n",
            "Apuesta Por El Rock 'N' Roll by Héroes del Silencio\n",
            "Paper Gangsta by Lady GaGa\n",
            "Stacked Actors by Foo Fighters\n",
            "Sehr kosmisch by Harmonia\n",
            "Heaven's gonna burn your eyes by Thievery Corporation feat. Emiliana Torrini\n",
            "Let It Be Sung by Jack Johnson / Matt Costa / Zach Gill / Dan Lebowitz / Steve Adams\n",
            "I'll Be Missing You (Featuring Faith Evans & 112)(Album Version) by Puff Daddy\n",
            "Love Shack by The B-52's\n",
            "Clarity by John Mayer\n",
            "I?'m A Steady Rollin? Man by Robert Johnson\n",
            "The Old Saloon by The Lonely Island\n",
            "Behind The Sea [Live In Chicago] by Panic At The Disco\n",
            "Champion by Kanye West\n",
            "Breakout by Foo Fighters\n",
            "Ragged Wood by Fleet Foxes\n",
            "Mykonos by Fleet Foxes\n",
            "Country Road by Jack Johnson / Paula Fuga\n",
            "Oh No by Andrew Bird\n",
            "Love Song For No One by John Mayer\n",
            "Jewels And Gold by Angus & Julia Stone\n",
            "Warning by Incubus\n",
            "83 by John Mayer\n",
            "Neon by John Mayer\n",
            "The Middle by Jimmy Eat World\n",
            "High and dry by Jorge Drexler\n",
            "All That We Perceive by Thievery Corporation\n",
            "The Christmas Song  (LP Version) by King Curtis\n",
            "Our Swords (Soundtrack Version) by Band Of Horses\n",
            "Are You In? by Incubus\n",
            "Drive by Incubus\n",
            "Generator by Foo Fighters\n",
            "Come Back To Bed by John Mayer\n",
            "He Doesn't Know Why by Fleet Foxes\n",
            "Trani by Kings Of Leon\n",
            "Bigger Isn't Better by The String Cheese Incident\n",
            "Sun Giant by Fleet Foxes\n",
            "City Love by John Mayer\n",
            "Right Back by Sublime\n",
            "Moonshine by Jack Johnson\n",
            "Holes To Heaven by Jack Johnson\n"
          ]
        }
      ]
    },
    {
      "cell_type": "markdown",
      "metadata": {
        "id": "HLLYfdCnybOR"
      },
      "source": [
        "**Get recommendations**"
      ]
    },
    {
      "cell_type": "code",
      "metadata": {
        "colab": {
          "base_uri": "https://localhost:8080/",
          "height": 393
        },
        "id": "JyUIKZNdyfGa",
        "outputId": "ed686c4c-45e3-4b0a-e5da-c372ed54baf1"
      },
      "source": [
        "r.get_recommendations(final_data['UserId'][6])"
      ],
      "execution_count": null,
      "outputs": [
        {
          "output_type": "stream",
          "name": "stdout",
          "text": [
            "Music Recommendations: \n",
            "\n"
          ]
        },
        {
          "output_type": "execute_result",
          "data": {
            "text/html": [
              "<div>\n",
              "<style scoped>\n",
              "    .dataframe tbody tr th:only-of-type {\n",
              "        vertical-align: middle;\n",
              "    }\n",
              "\n",
              "    .dataframe tbody tr th {\n",
              "        vertical-align: top;\n",
              "    }\n",
              "\n",
              "    .dataframe thead th {\n",
              "        text-align: right;\n",
              "    }\n",
              "</style>\n",
              "<table border=\"1\" class=\"dataframe\">\n",
              "  <thead>\n",
              "    <tr style=\"text-align: right;\">\n",
              "      <th></th>\n",
              "      <th>Song</th>\n",
              "      <th>Score</th>\n",
              "      <th>Rank</th>\n",
              "    </tr>\n",
              "  </thead>\n",
              "  <tbody>\n",
              "    <tr>\n",
              "      <th>0</th>\n",
              "      <td>Questions by Jack Johnson</td>\n",
              "      <td>0.037157</td>\n",
              "      <td>1</td>\n",
              "    </tr>\n",
              "    <tr>\n",
              "      <th>1</th>\n",
              "      <td>Great Indoors by John Mayer</td>\n",
              "      <td>0.036953</td>\n",
              "      <td>2</td>\n",
              "    </tr>\n",
              "    <tr>\n",
              "      <th>2</th>\n",
              "      <td>Wrong Turn by Jack Johnson</td>\n",
              "      <td>0.036740</td>\n",
              "      <td>3</td>\n",
              "    </tr>\n",
              "    <tr>\n",
              "      <th>3</th>\n",
              "      <td>Ghost Dream by Hymie's Basement</td>\n",
              "      <td>0.036463</td>\n",
              "      <td>4</td>\n",
              "    </tr>\n",
              "    <tr>\n",
              "      <th>4</th>\n",
              "      <td>Baby I Want You by Amos Lee</td>\n",
              "      <td>0.036244</td>\n",
              "      <td>5</td>\n",
              "    </tr>\n",
              "    <tr>\n",
              "      <th>5</th>\n",
              "      <td>Better That We Break by Maroon 5</td>\n",
              "      <td>0.035016</td>\n",
              "      <td>6</td>\n",
              "    </tr>\n",
              "    <tr>\n",
              "      <th>6</th>\n",
              "      <td>The Sharing Song by Jack Johnson</td>\n",
              "      <td>0.034193</td>\n",
              "      <td>7</td>\n",
              "    </tr>\n",
              "    <tr>\n",
              "      <th>7</th>\n",
              "      <td>Better Days by Amos Lee</td>\n",
              "      <td>0.034193</td>\n",
              "      <td>8</td>\n",
              "    </tr>\n",
              "    <tr>\n",
              "      <th>8</th>\n",
              "      <td>Dreamin' by Amos Lee</td>\n",
              "      <td>0.034193</td>\n",
              "      <td>9</td>\n",
              "    </tr>\n",
              "    <tr>\n",
              "      <th>9</th>\n",
              "      <td>Mr.Curiosity  (Album Version) by Jason Mraz</td>\n",
              "      <td>0.034193</td>\n",
              "      <td>10</td>\n",
              "    </tr>\n",
              "  </tbody>\n",
              "</table>\n",
              "</div>"
            ],
            "text/plain": [
              "                                          Song     Score Rank\n",
              "0                    Questions by Jack Johnson  0.037157    1\n",
              "1                  Great Indoors by John Mayer  0.036953    2\n",
              "2                   Wrong Turn by Jack Johnson  0.036740    3\n",
              "3              Ghost Dream by Hymie's Basement  0.036463    4\n",
              "4                  Baby I Want You by Amos Lee  0.036244    5\n",
              "5             Better That We Break by Maroon 5  0.035016    6\n",
              "6             The Sharing Song by Jack Johnson  0.034193    7\n",
              "7                      Better Days by Amos Lee  0.034193    8\n",
              "8                         Dreamin' by Amos Lee  0.034193    9\n",
              "9  Mr.Curiosity  (Album Version) by Jason Mraz  0.034193   10"
            ]
          },
          "metadata": {},
          "execution_count": 127
        }
      ]
    },
    {
      "cell_type": "code",
      "metadata": {
        "id": "mOKre2sr0Q2r",
        "colab": {
          "base_uri": "https://localhost:8080/",
          "height": 393
        },
        "outputId": "d5f55b09-193e-45fe-ce0a-fbdfa2ed78a8"
      },
      "source": [
        "r.get_similar_songs(['The Cove by Jack Johnson'])"
      ],
      "execution_count": null,
      "outputs": [
        {
          "output_type": "stream",
          "name": "stdout",
          "text": [
            "Music Recommendations: \n",
            "\n"
          ]
        },
        {
          "output_type": "execute_result",
          "data": {
            "text/html": [
              "<div>\n",
              "<style scoped>\n",
              "    .dataframe tbody tr th:only-of-type {\n",
              "        vertical-align: middle;\n",
              "    }\n",
              "\n",
              "    .dataframe tbody tr th {\n",
              "        vertical-align: top;\n",
              "    }\n",
              "\n",
              "    .dataframe thead th {\n",
              "        text-align: right;\n",
              "    }\n",
              "</style>\n",
              "<table border=\"1\" class=\"dataframe\">\n",
              "  <thead>\n",
              "    <tr style=\"text-align: right;\">\n",
              "      <th></th>\n",
              "      <th>Song</th>\n",
              "      <th>Score</th>\n",
              "      <th>Rank</th>\n",
              "    </tr>\n",
              "  </thead>\n",
              "  <tbody>\n",
              "    <tr>\n",
              "      <th>0</th>\n",
              "      <td>Moonshine by Jack Johnson</td>\n",
              "      <td>0.400000</td>\n",
              "      <td>1</td>\n",
              "    </tr>\n",
              "    <tr>\n",
              "      <th>1</th>\n",
              "      <td>Baby I Want You by Amos Lee</td>\n",
              "      <td>0.333333</td>\n",
              "      <td>2</td>\n",
              "    </tr>\n",
              "    <tr>\n",
              "      <th>2</th>\n",
              "      <td>Country Road by Jack Johnson / Paula Fuga</td>\n",
              "      <td>0.333333</td>\n",
              "      <td>3</td>\n",
              "    </tr>\n",
              "    <tr>\n",
              "      <th>3</th>\n",
              "      <td>Questions by Jack Johnson</td>\n",
              "      <td>0.285714</td>\n",
              "      <td>4</td>\n",
              "    </tr>\n",
              "    <tr>\n",
              "      <th>4</th>\n",
              "      <td>Wrong Turn by Jack Johnson</td>\n",
              "      <td>0.285714</td>\n",
              "      <td>5</td>\n",
              "    </tr>\n",
              "    <tr>\n",
              "      <th>5</th>\n",
              "      <td>Holes To Heaven by Jack Johnson</td>\n",
              "      <td>0.266667</td>\n",
              "      <td>6</td>\n",
              "    </tr>\n",
              "    <tr>\n",
              "      <th>6</th>\n",
              "      <td>What's Been Going On by Amos Lee</td>\n",
              "      <td>0.250000</td>\n",
              "      <td>7</td>\n",
              "    </tr>\n",
              "    <tr>\n",
              "      <th>7</th>\n",
              "      <td>Ghost Dream by Hymie's Basement</td>\n",
              "      <td>0.250000</td>\n",
              "      <td>8</td>\n",
              "    </tr>\n",
              "    <tr>\n",
              "      <th>8</th>\n",
              "      <td>Painting by Chagall by The Weepies</td>\n",
              "      <td>0.250000</td>\n",
              "      <td>9</td>\n",
              "    </tr>\n",
              "    <tr>\n",
              "      <th>9</th>\n",
              "      <td>Mrs Thompson by The Kooks</td>\n",
              "      <td>0.250000</td>\n",
              "      <td>10</td>\n",
              "    </tr>\n",
              "  </tbody>\n",
              "</table>\n",
              "</div>"
            ],
            "text/plain": [
              "                                        Song     Score Rank\n",
              "0                  Moonshine by Jack Johnson  0.400000    1\n",
              "1                Baby I Want You by Amos Lee  0.333333    2\n",
              "2  Country Road by Jack Johnson / Paula Fuga  0.333333    3\n",
              "3                  Questions by Jack Johnson  0.285714    4\n",
              "4                 Wrong Turn by Jack Johnson  0.285714    5\n",
              "5            Holes To Heaven by Jack Johnson  0.266667    6\n",
              "6           What's Been Going On by Amos Lee  0.250000    7\n",
              "7            Ghost Dream by Hymie's Basement  0.250000    8\n",
              "8         Painting by Chagall by The Weepies  0.250000    9\n",
              "9                  Mrs Thompson by The Kooks  0.250000   10"
            ]
          },
          "metadata": {},
          "execution_count": 128
        }
      ]
    }
  ]
}